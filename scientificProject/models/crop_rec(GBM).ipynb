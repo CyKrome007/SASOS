{
 "cells": [
  {
   "cell_type": "code",
   "id": "initial_id",
   "metadata": {
    "collapsed": true,
    "ExecuteTime": {
     "end_time": "2024-10-28T17:27:18.198152Z",
     "start_time": "2024-10-28T17:27:18.182059Z"
    }
   },
   "source": [
    "import pandas as pd\n",
    "\n",
    "import pandas as pd\n",
    "\n",
    "# Replace 'your_file.csv' with the actual path and filename\n",
    "\n",
    "\n",
    "\n",
    "crop_data = pd.read_csv( 'crop_data.csv' )\n",
    "\n",
    "# Display the first few rows of the data to understand its structure\n",
    "crop_data.head()\n"
   ],
   "outputs": [
    {
     "data": {
      "text/plain": [
       "    N   P   K  temperature   humidity        ph    rainfall label\n",
       "0  90  42  43    20.879744  82.002744  6.502985  202.935536  rice\n",
       "1  85  58  41    21.770462  80.319644  7.038096  226.655537  rice\n",
       "2  60  55  44    23.004459  82.320763  7.840207  263.964248  rice\n",
       "3  74  35  40    26.491096  80.158363  6.980401  242.864034  rice\n",
       "4  78  42  42    20.130175  81.604873  7.628473  262.717340  rice"
      ],
      "text/html": [
       "<div>\n",
       "<style scoped>\n",
       "    .dataframe tbody tr th:only-of-type {\n",
       "        vertical-align: middle;\n",
       "    }\n",
       "\n",
       "    .dataframe tbody tr th {\n",
       "        vertical-align: top;\n",
       "    }\n",
       "\n",
       "    .dataframe thead th {\n",
       "        text-align: right;\n",
       "    }\n",
       "</style>\n",
       "<table border=\"1\" class=\"dataframe\">\n",
       "  <thead>\n",
       "    <tr style=\"text-align: right;\">\n",
       "      <th></th>\n",
       "      <th>N</th>\n",
       "      <th>P</th>\n",
       "      <th>K</th>\n",
       "      <th>temperature</th>\n",
       "      <th>humidity</th>\n",
       "      <th>ph</th>\n",
       "      <th>rainfall</th>\n",
       "      <th>label</th>\n",
       "    </tr>\n",
       "  </thead>\n",
       "  <tbody>\n",
       "    <tr>\n",
       "      <th>0</th>\n",
       "      <td>90</td>\n",
       "      <td>42</td>\n",
       "      <td>43</td>\n",
       "      <td>20.879744</td>\n",
       "      <td>82.002744</td>\n",
       "      <td>6.502985</td>\n",
       "      <td>202.935536</td>\n",
       "      <td>rice</td>\n",
       "    </tr>\n",
       "    <tr>\n",
       "      <th>1</th>\n",
       "      <td>85</td>\n",
       "      <td>58</td>\n",
       "      <td>41</td>\n",
       "      <td>21.770462</td>\n",
       "      <td>80.319644</td>\n",
       "      <td>7.038096</td>\n",
       "      <td>226.655537</td>\n",
       "      <td>rice</td>\n",
       "    </tr>\n",
       "    <tr>\n",
       "      <th>2</th>\n",
       "      <td>60</td>\n",
       "      <td>55</td>\n",
       "      <td>44</td>\n",
       "      <td>23.004459</td>\n",
       "      <td>82.320763</td>\n",
       "      <td>7.840207</td>\n",
       "      <td>263.964248</td>\n",
       "      <td>rice</td>\n",
       "    </tr>\n",
       "    <tr>\n",
       "      <th>3</th>\n",
       "      <td>74</td>\n",
       "      <td>35</td>\n",
       "      <td>40</td>\n",
       "      <td>26.491096</td>\n",
       "      <td>80.158363</td>\n",
       "      <td>6.980401</td>\n",
       "      <td>242.864034</td>\n",
       "      <td>rice</td>\n",
       "    </tr>\n",
       "    <tr>\n",
       "      <th>4</th>\n",
       "      <td>78</td>\n",
       "      <td>42</td>\n",
       "      <td>42</td>\n",
       "      <td>20.130175</td>\n",
       "      <td>81.604873</td>\n",
       "      <td>7.628473</td>\n",
       "      <td>262.717340</td>\n",
       "      <td>rice</td>\n",
       "    </tr>\n",
       "  </tbody>\n",
       "</table>\n",
       "</div>"
      ]
     },
     "execution_count": 7,
     "metadata": {},
     "output_type": "execute_result"
    }
   ],
   "execution_count": 7
  },
  {
   "metadata": {},
   "cell_type": "code",
   "outputs": [],
   "execution_count": null,
   "source": [
    "import tensorflow as tf\n",
    "print(tf.__version__)\n"
   ],
   "id": "5dec0dff4428c44b"
  },
  {
   "metadata": {
    "ExecuteTime": {
     "end_time": "2024-10-28T17:28:09.836231Z",
     "start_time": "2024-10-28T17:27:31.241308Z"
    }
   },
   "cell_type": "code",
   "source": [
    "from sklearn.model_selection import train_test_split, cross_val_score\n",
    "from sklearn.ensemble import GradientBoostingClassifier\n",
    "from sklearn.metrics import accuracy_score, classification_report\n",
    "\n",
    "# Prepare features and labels\n",
    "X = crop_data.drop('label', axis=1)\n",
    "y = crop_data['label']\n",
    "\n",
    "# Split the data into training and testing sets\n",
    "X_train, X_test, y_train, y_test = train_test_split(X, y, test_size=0.2, random_state=42)\n",
    "\n",
    "# Initialize the Gradient Boosting Classifier\n",
    "gbm_model = GradientBoostingClassifier(random_state=42)\n",
    "\n",
    "# Train the model\n",
    "gbm_model.fit(X_train, y_train)\n",
    "\n",
    "# Predict on the test set\n",
    "y_pred = gbm_model.predict(X_test)\n",
    "\n",
    "# Evaluate with accuracy score and classification report\n",
    "accuracy = accuracy_score(y_test, y_pred)\n",
    "report = classification_report(y_test, y_pred)\n",
    "\n",
    "# Cross-validation scores\n",
    "cv_scores = cross_val_score(gbm_model, X_train, y_train, cv=5)\n",
    "\n",
    "accuracy, report, cv_scores.mean()\n"
   ],
   "id": "2fabcb6b7090fb4a",
   "outputs": [
    {
     "data": {
      "text/plain": [
       "(0.9818181818181818,\n",
       " '              precision    recall  f1-score   support\\n\\n       apple       1.00      1.00      1.00        23\\n      banana       1.00      1.00      1.00        21\\n   blackgram       0.95      1.00      0.98        20\\n    chickpea       1.00      1.00      1.00        26\\n     coconut       1.00      0.96      0.98        27\\n      coffee       1.00      1.00      1.00        17\\n      cotton       0.94      1.00      0.97        17\\n      grapes       1.00      1.00      1.00        14\\n        jute       0.82      1.00      0.90        23\\n kidneybeans       1.00      1.00      1.00        20\\n      lentil       0.92      1.00      0.96        11\\n       maize       1.00      0.95      0.98        21\\n       mango       1.00      1.00      1.00        19\\n   mothbeans       1.00      0.96      0.98        24\\n    mungbean       1.00      1.00      1.00        19\\n   muskmelon       1.00      1.00      1.00        17\\n      orange       1.00      1.00      1.00        14\\n      papaya       1.00      1.00      1.00        23\\n  pigeonpeas       1.00      0.96      0.98        23\\n pomegranate       1.00      1.00      1.00        23\\n        rice       1.00      0.79      0.88        19\\n  watermelon       1.00      1.00      1.00        19\\n\\n    accuracy                           0.98       440\\n   macro avg       0.98      0.98      0.98       440\\nweighted avg       0.98      0.98      0.98       440\\n',\n",
       " 0.9875)"
      ]
     },
     "execution_count": 8,
     "metadata": {},
     "output_type": "execute_result"
    }
   ],
   "execution_count": 8
  },
  {
   "metadata": {},
   "cell_type": "code",
   "outputs": [],
   "execution_count": null,
   "source": "",
   "id": "66b73f68d5efc997"
  }
 ],
 "metadata": {
  "kernelspec": {
   "display_name": "Python 3",
   "language": "python",
   "name": "python3"
  },
  "language_info": {
   "codemirror_mode": {
    "name": "ipython",
    "version": 2
   },
   "file_extension": ".py",
   "mimetype": "text/x-python",
   "name": "python",
   "nbconvert_exporter": "python",
   "pygments_lexer": "ipython2",
   "version": "2.7.6"
  }
 },
 "nbformat": 4,
 "nbformat_minor": 5
}
